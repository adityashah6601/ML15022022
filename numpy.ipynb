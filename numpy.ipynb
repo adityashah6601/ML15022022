{
 "cells": [
  {
   "cell_type": "code",
   "execution_count": 1,
   "id": "617bb897-4102-4f01-9f02-83312bd49f90",
   "metadata": {
    "tags": []
   },
   "outputs": [],
   "source": [
    "import numpy as np\n"
   ]
  },
  {
   "cell_type": "code",
   "execution_count": null,
   "id": "b34f2df2-924d-491a-a36b-a3cccf5f7293",
   "metadata": {},
   "outputs": [
    {
     "data": {
      "text/plain": [
       "array([0., 0., 0., 0., 0., 0., 0., 0., 0., 0.])"
      ]
     },
     "execution_count": 27,
     "metadata": {},
     "output_type": "execute_result"
    }
   ],
   "source": [
    "zero=np.zeros(10)\n",
    "zero"
   ]
  },
  {
   "cell_type": "code",
   "execution_count": null,
   "id": "9e3840b7-1b2b-4bff-b06d-bde391441536",
   "metadata": {},
   "outputs": [
    {
     "data": {
      "text/plain": [
       "array([1., 1., 1., 1., 1., 1., 1., 1., 1., 1.])"
      ]
     },
     "execution_count": 3,
     "metadata": {},
     "output_type": "execute_result"
    }
   ],
   "source": [
    "one=np.ones(10)\n",
    "one"
   ]
  },
  {
   "cell_type": "code",
   "execution_count": 4,
   "id": "7164188a-d85f-4ba0-8b85-e05fa02c0e88",
   "metadata": {},
   "outputs": [
    {
     "data": {
      "text/plain": [
       "array([5., 5., 5., 5., 5., 5., 5., 5., 5., 5.])"
      ]
     },
     "execution_count": 4,
     "metadata": {},
     "output_type": "execute_result"
    }
   ],
   "source": [
    "five=np.ones(10)*5\n",
    "five"
   ]
  },
  {
   "cell_type": "code",
   "execution_count": 5,
   "id": "b8caf2e0-f14e-45ce-aeb8-b40d5c3a8c57",
   "metadata": {},
   "outputs": [
    {
     "data": {
      "text/plain": [
       "array([10, 11, 12, 13, 14, 15, 16, 17, 18, 19, 20, 21, 22, 23, 24, 25, 26,\n",
       "       27, 28, 29, 30, 31, 32, 33, 34, 35, 36, 37, 38, 39, 40, 41, 42, 43,\n",
       "       44, 45, 46, 47, 48, 49])"
      ]
     },
     "execution_count": 5,
     "metadata": {},
     "output_type": "execute_result"
    }
   ],
   "source": [
    "arr=np.array(range(10,50))\n",
    "arr\n"
   ]
  },
  {
   "cell_type": "code",
   "execution_count": 6,
   "id": "83e6976e-e410-4fa2-ad10-47205ce81cfd",
   "metadata": {},
   "outputs": [
    {
     "data": {
      "text/plain": [
       "array([10, 12, 14, 16, 18, 20, 22, 24, 26, 28, 30, 32, 34, 36, 38, 40, 42,\n",
       "       44, 46, 48])"
      ]
     },
     "execution_count": 6,
     "metadata": {},
     "output_type": "execute_result"
    }
   ],
   "source": [
    "Evenarr=np.array(range(10,50,2))\n",
    "Evenarr"
   ]
  },
  {
   "cell_type": "code",
   "execution_count": 7,
   "id": "b22072e8-37bb-4035-97c3-68cd387429bd",
   "metadata": {},
   "outputs": [
    {
     "data": {
      "text/plain": [
       "array([[0, 1, 2],\n",
       "       [3, 4, 5],\n",
       "       [6, 7, 8]])"
      ]
     },
     "execution_count": 7,
     "metadata": {},
     "output_type": "execute_result"
    }
   ],
   "source": [
    "a1=np.array([[0,1,2],[3,4,5],[6,7,8]])\n",
    "a1"
   ]
  },
  {
   "cell_type": "code",
   "execution_count": 9,
   "id": "75f88487-fe67-4edf-84eb-4a5840a59a25",
   "metadata": {},
   "outputs": [
    {
     "data": {
      "text/plain": [
       "array([[1, 0, 0],\n",
       "       [0, 1, 0],\n",
       "       [0, 0, 1]])"
      ]
     },
     "execution_count": 9,
     "metadata": {},
     "output_type": "execute_result"
    }
   ],
   "source": [
    "a1=np.array([[1,0,0],[0,1,0],[0,0,1]])\n",
    "a1"
   ]
  },
  {
   "cell_type": "code",
   "execution_count": 10,
   "id": "fae0abcf-c393-4814-b499-6c3064bcc646",
   "metadata": {},
   "outputs": [
    {
     "data": {
      "text/plain": [
       "array([0.00353811])"
      ]
     },
     "execution_count": 10,
     "metadata": {},
     "output_type": "execute_result"
    }
   ],
   "source": [
    "array=np.random.random(1)\n",
    "array"
   ]
  },
  {
   "cell_type": "code",
   "execution_count": 11,
   "id": "51e9545b-49f6-4fc9-9203-44bcb1215d59",
   "metadata": {},
   "outputs": [
    {
     "data": {
      "text/plain": [
       "array([0.66156352, 0.10648513, 0.66260284, 0.71746835, 0.41294222,\n",
       "       0.45315017, 0.61921592, 0.81775533, 0.86911384, 0.2094491 ,\n",
       "       0.03931959, 0.01686183, 0.58650184, 0.98488122, 0.39641056,\n",
       "       0.40503984, 0.85607842, 0.75711709, 0.6970331 , 0.07815168,\n",
       "       0.61039393, 0.19263612, 0.95509059, 0.75412875, 0.85683598])"
      ]
     },
     "execution_count": 11,
     "metadata": {},
     "output_type": "execute_result"
    }
   ],
   "source": [
    "aaray=np.random.random(25)\n",
    "aaray\n"
   ]
  },
  {
   "cell_type": "code",
   "execution_count": 12,
   "id": "22e89447-c8a7-481e-87bb-fecff23258c3",
   "metadata": {},
   "outputs": [
    {
     "data": {
      "text/plain": [
       "array([[0.        , 0.02040816, 0.04081633, 0.06122449, 0.08163265,\n",
       "        0.10204082, 0.12244898, 0.14285714, 0.16326531, 0.18367347,\n",
       "        0.20408163, 0.2244898 , 0.24489796, 0.26530612, 0.28571429,\n",
       "        0.30612245, 0.32653061, 0.34693878, 0.36734694, 0.3877551 ,\n",
       "        0.40816327, 0.42857143, 0.44897959, 0.46938776, 0.48979592,\n",
       "        0.51020408, 0.53061224, 0.55102041, 0.57142857, 0.59183673,\n",
       "        0.6122449 , 0.63265306, 0.65306122, 0.67346939, 0.69387755,\n",
       "        0.71428571, 0.73469388, 0.75510204, 0.7755102 , 0.79591837,\n",
       "        0.81632653, 0.83673469, 0.85714286, 0.87755102, 0.89795918,\n",
       "        0.91836735, 0.93877551, 0.95918367, 0.97959184, 1.        ]])"
      ]
     },
     "execution_count": 12,
     "metadata": {},
     "output_type": "execute_result"
    }
   ],
   "source": [
    "arr=np.array([np.linspace(0,1)])\n",
    "arr"
   ]
  },
  {
   "cell_type": "code",
   "execution_count": 13,
   "id": "9858e996-04bc-4edc-b5fb-b429d415ff42",
   "metadata": {},
   "outputs": [
    {
     "data": {
      "text/plain": [
       "array([[0.        , 0.05263158, 0.10526316, 0.15789474, 0.21052632,\n",
       "        0.26315789, 0.31578947, 0.36842105, 0.42105263, 0.47368421,\n",
       "        0.52631579, 0.57894737, 0.63157895, 0.68421053, 0.73684211,\n",
       "        0.78947368, 0.84210526, 0.89473684, 0.94736842, 1.        ]])"
      ]
     },
     "execution_count": 13,
     "metadata": {},
     "output_type": "execute_result"
    }
   ],
   "source": [
    "ar=np.array([np.linspace(0,1,20)])\n",
    "ar"
   ]
  },
  {
   "cell_type": "code",
   "execution_count": 14,
   "id": "9f62ba38-30af-4764-8030-424a52723716",
   "metadata": {},
   "outputs": [
    {
     "data": {
      "text/plain": [
       "array([[ 1,  2,  3,  4,  5],\n",
       "       [ 6,  7,  8,  9, 10],\n",
       "       [11, 12, 13, 14, 15],\n",
       "       [16, 17, 18, 19, 20],\n",
       "       [21, 22, 23, 24, 25]])"
      ]
     },
     "execution_count": 14,
     "metadata": {},
     "output_type": "execute_result"
    }
   ],
   "source": [
    "e=np.array(range(1,26))\n",
    "g=e.reshape(5,5)\n",
    "g"
   ]
  },
  {
   "cell_type": "code",
   "execution_count": 15,
   "id": "4e3c1dac-9fc9-4f49-a51c-5b619d58b103",
   "metadata": {},
   "outputs": [],
   "source": [
    "# WRITE CODE HERE THAT REPRODUCES THE OUTPUT OF THE CELL BELOW\n",
    "# BE CAREFUL NOT TO RUN THE CELL BELOW, OTHERWISE YOU WON'T\n",
    "# BE ABLE TO SEE THE OUTPUT ANY MORE"
   ]
  },
  {
   "cell_type": "code",
   "execution_count": 16,
   "id": "bfe4062f-8d2c-4f69-a741-79cb1c7b7b5b",
   "metadata": {},
   "outputs": [
    {
     "data": {
      "text/plain": [
       "array([[12, 13, 14, 15],\n",
       "       [17, 18, 19, 20],\n",
       "       [22, 23, 24, 25]])"
      ]
     },
     "execution_count": 16,
     "metadata": {},
     "output_type": "execute_result"
    }
   ],
   "source": [
    "l=g[2::,1::]\n",
    "l"
   ]
  },
  {
   "cell_type": "code",
   "execution_count": 17,
   "id": "233380a1-82f1-42c1-907d-8d25bd2d7670",
   "metadata": {},
   "outputs": [
    {
     "data": {
      "text/plain": [
       "20"
      ]
     },
     "execution_count": 17,
     "metadata": {},
     "output_type": "execute_result"
    }
   ],
   "source": [
    "l[1,3]"
   ]
  },
  {
   "cell_type": "code",
   "execution_count": 18,
   "id": "df52b483-c9ea-4171-a026-a2f5e9b63dd7",
   "metadata": {},
   "outputs": [],
   "source": [
    "# WRITE CODE HERE THAT REPRODUCES THE OUTPUT OF THE CELL BELOW\n",
    "# BE CAREFUL NOT TO RUN THE CELL BELOW, OTHERWISE YOU WON'T\n",
    "# BE ABLE TO SEE THE OUTPUT ANY MORE"
   ]
  },
  {
   "cell_type": "code",
   "execution_count": 19,
   "id": "f915338b-80d3-4155-991b-943885c12258",
   "metadata": {},
   "outputs": [
    {
     "data": {
      "text/plain": [
       "array([[ 2],\n",
       "       [ 7],\n",
       "       [12]])"
      ]
     },
     "execution_count": 19,
     "metadata": {},
     "output_type": "execute_result"
    }
   ],
   "source": [
    "r=g[0:3:,1]\n",
    "r=r.reshape(3,1)\n",
    "r"
   ]
  },
  {
   "cell_type": "code",
   "execution_count": 20,
   "id": "c9efb729-cae2-485d-b5c0-e245c74f0021",
   "metadata": {},
   "outputs": [],
   "source": [
    "# WRITE CODE HERE THAT REPRODUCES THE OUTPUT OF THE CELL BELOW\n",
    "# BE CAREFUL NOT TO RUN THE CELL BELOW, OTHERWISE YOU WON'T\n",
    "# BE ABLE TO SEE THE OUTPUT ANY MORE\n"
   ]
  },
  {
   "cell_type": "code",
   "execution_count": 21,
   "id": "67f7e90f-9bbb-42cc-beaa-9be292d40b06",
   "metadata": {},
   "outputs": [
    {
     "data": {
      "text/plain": [
       "array([21, 22, 23, 24, 25])"
      ]
     },
     "execution_count": 21,
     "metadata": {},
     "output_type": "execute_result"
    }
   ],
   "source": [
    "k=g[4,0:5]\n",
    "k"
   ]
  },
  {
   "cell_type": "code",
   "execution_count": 22,
   "id": "5ddb4d5e-3e7d-4c58-bb93-29aefd3e5dc9",
   "metadata": {},
   "outputs": [],
   "source": [
    "# WRITE CODE HERE THAT REPRODUCES THE OUTPUT OF THE CELL BELOW\n",
    "# BE CAREFUL NOT TO RUN THE CELL BELOW, OTHERWISE YOU WON'T\n",
    "# BE ABLE TO SEE THE OUTPUT ANY MORE"
   ]
  },
  {
   "cell_type": "code",
   "execution_count": 23,
   "id": "4441e387-dc35-41ab-adb1-07526d9fefed",
   "metadata": {},
   "outputs": [
    {
     "data": {
      "text/plain": [
       "array([[16, 17, 18, 19, 20],\n",
       "       [21, 22, 23, 24, 25]])"
      ]
     },
     "execution_count": 23,
     "metadata": {},
     "output_type": "execute_result"
    }
   ],
   "source": [
    "k=g[3:5,0:5]\n",
    "k\n"
   ]
  },
  {
   "cell_type": "code",
   "execution_count": 24,
   "id": "433e1567-fb7e-4bed-bb26-b55dd329f659",
   "metadata": {},
   "outputs": [
    {
     "data": {
      "text/plain": [
       "325"
      ]
     },
     "execution_count": 24,
     "metadata": {},
     "output_type": "execute_result"
    }
   ],
   "source": [
    "g.sum()"
   ]
  },
  {
   "cell_type": "code",
   "execution_count": 25,
   "id": "ab687e79-c5d3-4c26-bdd2-022a6ebd0e96",
   "metadata": {},
   "outputs": [
    {
     "data": {
      "text/plain": [
       "7.211102550927978"
      ]
     },
     "execution_count": 25,
     "metadata": {},
     "output_type": "execute_result"
    }
   ],
   "source": [
    "g.std()\n"
   ]
  },
  {
   "cell_type": "code",
   "execution_count": 26,
   "id": "905990d6-156a-4a90-a110-2e2a8bc03635",
   "metadata": {},
   "outputs": [
    {
     "data": {
      "text/plain": [
       "array([55, 60, 65, 70, 75])"
      ]
     },
     "execution_count": 26,
     "metadata": {},
     "output_type": "execute_result"
    }
   ],
   "source": [
    "g.sum(axis =0)\n"
   ]
  },
  {
   "cell_type": "code",
   "execution_count": null,
   "id": "564b3103-fc5c-40fe-9862-9d926e76c70d",
   "metadata": {},
   "outputs": [],
   "source": []
  }
 ],
 "metadata": {
  "kernelspec": {
   "display_name": "Python 3 (ipykernel)",
   "language": "python",
   "name": "python3"
  },
  "language_info": {
   "codemirror_mode": {
    "name": "ipython",
    "version": 3
   },
   "file_extension": ".py",
   "mimetype": "text/x-python",
   "name": "python",
   "nbconvert_exporter": "python",
   "pygments_lexer": "ipython3",
   "version": "3.9.7"
  }
 },
 "nbformat": 4,
 "nbformat_minor": 5
}
